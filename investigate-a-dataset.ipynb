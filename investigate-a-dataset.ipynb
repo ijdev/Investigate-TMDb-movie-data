{
 "cells": [
  {
   "cell_type": "markdown",
   "metadata": {},
   "source": [
    "# Project: Investigate a Dataset (TMDb movie data)\n",
    "\n",
    "## Table of Contents\n",
    "<ul>\n",
    "<li><a href=\"#intro\">Introduction</a></li>\n",
    "<li><a href=\"#wrangling\">Data Wrangling</a></li>\n",
    "<li><a href=\"#eda\">Exploratory Data Analysis</a></li>\n",
    "<li><a href=\"#conclusions\">Conclusions</a></li>\n",
    "</ul>"
   ]
  },
  {
   "cell_type": "markdown",
   "metadata": {},
   "source": [
    "<a id='intro'></a>\n",
    "## Introduction\n",
    "\n",
    "> TMDB Movie Dataset contains data about 10 thousend movie, it include the movie name, cast members, production companies, etc.\n",
    "Some of quistion one would ask is What genres are most popualr?, which genres get the most reveune?, Who are the actors/actress with high move ratings ?, which production companies related to high vote ratings ?\n"
   ]
  },
  {
   "cell_type": "code",
   "execution_count": 1,
   "metadata": {},
   "outputs": [],
   "source": [
    "# import needed libraries.\n",
    "import pandas as pd\n",
    "import numpy as np\n",
    "import matplotlib.pyplot as plt\n",
    "\n",
    "%matplotlib inline"
   ]
  },
  {
   "cell_type": "markdown",
   "metadata": {},
   "source": [
    "<a id='wrangling'></a>\n",
    "## Data Wrangling\n",
    "\n",
    "\n",
    "### General Properties\n",
    "> Here will explore the data and see what each columns represent, and what to clean."
   ]
  },
  {
   "cell_type": "code",
   "execution_count": 2,
   "metadata": {},
   "outputs": [],
   "source": [
    "df = pd.read_csv('movies_data.csv')"
   ]
  },
  {
   "cell_type": "code",
   "execution_count": 3,
   "metadata": {},
   "outputs": [
    {
     "data": {
      "text/html": [
       "<div>\n",
       "<style scoped>\n",
       "    .dataframe tbody tr th:only-of-type {\n",
       "        vertical-align: middle;\n",
       "    }\n",
       "\n",
       "    .dataframe tbody tr th {\n",
       "        vertical-align: top;\n",
       "    }\n",
       "\n",
       "    .dataframe thead th {\n",
       "        text-align: right;\n",
       "    }\n",
       "</style>\n",
       "<table border=\"1\" class=\"dataframe\">\n",
       "  <thead>\n",
       "    <tr style=\"text-align: right;\">\n",
       "      <th></th>\n",
       "      <th>id</th>\n",
       "      <th>imdb_id</th>\n",
       "      <th>popularity</th>\n",
       "      <th>budget</th>\n",
       "      <th>revenue</th>\n",
       "      <th>original_title</th>\n",
       "      <th>cast</th>\n",
       "      <th>homepage</th>\n",
       "      <th>director</th>\n",
       "      <th>tagline</th>\n",
       "      <th>...</th>\n",
       "      <th>overview</th>\n",
       "      <th>runtime</th>\n",
       "      <th>genres</th>\n",
       "      <th>production_companies</th>\n",
       "      <th>release_date</th>\n",
       "      <th>vote_count</th>\n",
       "      <th>vote_average</th>\n",
       "      <th>release_year</th>\n",
       "      <th>budget_adj</th>\n",
       "      <th>revenue_adj</th>\n",
       "    </tr>\n",
       "  </thead>\n",
       "  <tbody>\n",
       "    <tr>\n",
       "      <th>0</th>\n",
       "      <td>135397</td>\n",
       "      <td>tt0369610</td>\n",
       "      <td>32.985763</td>\n",
       "      <td>150000000</td>\n",
       "      <td>1513528810</td>\n",
       "      <td>Jurassic World</td>\n",
       "      <td>Chris Pratt|Bryce Dallas Howard|Irrfan Khan|Vi...</td>\n",
       "      <td>http://www.jurassicworld.com/</td>\n",
       "      <td>Colin Trevorrow</td>\n",
       "      <td>The park is open.</td>\n",
       "      <td>...</td>\n",
       "      <td>Twenty-two years after the events of Jurassic ...</td>\n",
       "      <td>124</td>\n",
       "      <td>Action|Adventure|Science Fiction|Thriller</td>\n",
       "      <td>Universal Studios|Amblin Entertainment|Legenda...</td>\n",
       "      <td>6/9/15</td>\n",
       "      <td>5562</td>\n",
       "      <td>6.5</td>\n",
       "      <td>2015</td>\n",
       "      <td>1.379999e+08</td>\n",
       "      <td>1.392446e+09</td>\n",
       "    </tr>\n",
       "    <tr>\n",
       "      <th>1</th>\n",
       "      <td>76341</td>\n",
       "      <td>tt1392190</td>\n",
       "      <td>28.419936</td>\n",
       "      <td>150000000</td>\n",
       "      <td>378436354</td>\n",
       "      <td>Mad Max: Fury Road</td>\n",
       "      <td>Tom Hardy|Charlize Theron|Hugh Keays-Byrne|Nic...</td>\n",
       "      <td>http://www.madmaxmovie.com/</td>\n",
       "      <td>George Miller</td>\n",
       "      <td>What a Lovely Day.</td>\n",
       "      <td>...</td>\n",
       "      <td>An apocalyptic story set in the furthest reach...</td>\n",
       "      <td>120</td>\n",
       "      <td>Action|Adventure|Science Fiction|Thriller</td>\n",
       "      <td>Village Roadshow Pictures|Kennedy Miller Produ...</td>\n",
       "      <td>5/13/15</td>\n",
       "      <td>6185</td>\n",
       "      <td>7.1</td>\n",
       "      <td>2015</td>\n",
       "      <td>1.379999e+08</td>\n",
       "      <td>3.481613e+08</td>\n",
       "    </tr>\n",
       "    <tr>\n",
       "      <th>2</th>\n",
       "      <td>262500</td>\n",
       "      <td>tt2908446</td>\n",
       "      <td>13.112507</td>\n",
       "      <td>110000000</td>\n",
       "      <td>295238201</td>\n",
       "      <td>Insurgent</td>\n",
       "      <td>Shailene Woodley|Theo James|Kate Winslet|Ansel...</td>\n",
       "      <td>http://www.thedivergentseries.movie/#insurgent</td>\n",
       "      <td>Robert Schwentke</td>\n",
       "      <td>One Choice Can Destroy You</td>\n",
       "      <td>...</td>\n",
       "      <td>Beatrice Prior must confront her inner demons ...</td>\n",
       "      <td>119</td>\n",
       "      <td>Adventure|Science Fiction|Thriller</td>\n",
       "      <td>Summit Entertainment|Mandeville Films|Red Wago...</td>\n",
       "      <td>3/18/15</td>\n",
       "      <td>2480</td>\n",
       "      <td>6.3</td>\n",
       "      <td>2015</td>\n",
       "      <td>1.012000e+08</td>\n",
       "      <td>2.716190e+08</td>\n",
       "    </tr>\n",
       "  </tbody>\n",
       "</table>\n",
       "<p>3 rows × 21 columns</p>\n",
       "</div>"
      ],
      "text/plain": [
       "       id    imdb_id  popularity     budget     revenue      original_title  \\\n",
       "0  135397  tt0369610   32.985763  150000000  1513528810      Jurassic World   \n",
       "1   76341  tt1392190   28.419936  150000000   378436354  Mad Max: Fury Road   \n",
       "2  262500  tt2908446   13.112507  110000000   295238201           Insurgent   \n",
       "\n",
       "                                                cast  \\\n",
       "0  Chris Pratt|Bryce Dallas Howard|Irrfan Khan|Vi...   \n",
       "1  Tom Hardy|Charlize Theron|Hugh Keays-Byrne|Nic...   \n",
       "2  Shailene Woodley|Theo James|Kate Winslet|Ansel...   \n",
       "\n",
       "                                         homepage          director  \\\n",
       "0                   http://www.jurassicworld.com/   Colin Trevorrow   \n",
       "1                     http://www.madmaxmovie.com/     George Miller   \n",
       "2  http://www.thedivergentseries.movie/#insurgent  Robert Schwentke   \n",
       "\n",
       "                      tagline  ...  \\\n",
       "0           The park is open.  ...   \n",
       "1          What a Lovely Day.  ...   \n",
       "2  One Choice Can Destroy You  ...   \n",
       "\n",
       "                                            overview runtime  \\\n",
       "0  Twenty-two years after the events of Jurassic ...     124   \n",
       "1  An apocalyptic story set in the furthest reach...     120   \n",
       "2  Beatrice Prior must confront her inner demons ...     119   \n",
       "\n",
       "                                      genres  \\\n",
       "0  Action|Adventure|Science Fiction|Thriller   \n",
       "1  Action|Adventure|Science Fiction|Thriller   \n",
       "2         Adventure|Science Fiction|Thriller   \n",
       "\n",
       "                                production_companies release_date vote_count  \\\n",
       "0  Universal Studios|Amblin Entertainment|Legenda...       6/9/15       5562   \n",
       "1  Village Roadshow Pictures|Kennedy Miller Produ...      5/13/15       6185   \n",
       "2  Summit Entertainment|Mandeville Films|Red Wago...      3/18/15       2480   \n",
       "\n",
       "   vote_average  release_year    budget_adj   revenue_adj  \n",
       "0           6.5          2015  1.379999e+08  1.392446e+09  \n",
       "1           7.1          2015  1.379999e+08  3.481613e+08  \n",
       "2           6.3          2015  1.012000e+08  2.716190e+08  \n",
       "\n",
       "[3 rows x 21 columns]"
      ]
     },
     "execution_count": 3,
     "metadata": {},
     "output_type": "execute_result"
    }
   ],
   "source": [
    "# quick view to the data\n",
    "df.head(3)"
   ]
  },
  {
   "cell_type": "code",
   "execution_count": 4,
   "metadata": {},
   "outputs": [
    {
     "name": "stdout",
     "output_type": "stream",
     "text": [
      "<class 'pandas.core.frame.DataFrame'>\n",
      "RangeIndex: 10866 entries, 0 to 10865\n",
      "Data columns (total 21 columns):\n",
      "id                      10866 non-null int64\n",
      "imdb_id                 10856 non-null object\n",
      "popularity              10866 non-null float64\n",
      "budget                  10866 non-null int64\n",
      "revenue                 10866 non-null int64\n",
      "original_title          10866 non-null object\n",
      "cast                    10790 non-null object\n",
      "homepage                2936 non-null object\n",
      "director                10822 non-null object\n",
      "tagline                 8042 non-null object\n",
      "keywords                9373 non-null object\n",
      "overview                10862 non-null object\n",
      "runtime                 10866 non-null int64\n",
      "genres                  10843 non-null object\n",
      "production_companies    9836 non-null object\n",
      "release_date            10866 non-null object\n",
      "vote_count              10866 non-null int64\n",
      "vote_average            10866 non-null float64\n",
      "release_year            10866 non-null int64\n",
      "budget_adj              10866 non-null float64\n",
      "revenue_adj             10866 non-null float64\n",
      "dtypes: float64(4), int64(6), object(11)\n",
      "memory usage: 1.7+ MB\n"
     ]
    }
   ],
   "source": [
    "# checking all columns names, type,and any missing values.\n",
    "df.info()"
   ]
  },
  {
   "cell_type": "code",
   "execution_count": 5,
   "metadata": {},
   "outputs": [
    {
     "data": {
      "text/html": [
       "<div>\n",
       "<style scoped>\n",
       "    .dataframe tbody tr th:only-of-type {\n",
       "        vertical-align: middle;\n",
       "    }\n",
       "\n",
       "    .dataframe tbody tr th {\n",
       "        vertical-align: top;\n",
       "    }\n",
       "\n",
       "    .dataframe thead th {\n",
       "        text-align: right;\n",
       "    }\n",
       "</style>\n",
       "<table border=\"1\" class=\"dataframe\">\n",
       "  <thead>\n",
       "    <tr style=\"text-align: right;\">\n",
       "      <th></th>\n",
       "      <th>id</th>\n",
       "      <th>popularity</th>\n",
       "      <th>budget</th>\n",
       "      <th>revenue</th>\n",
       "      <th>runtime</th>\n",
       "      <th>vote_count</th>\n",
       "      <th>vote_average</th>\n",
       "      <th>release_year</th>\n",
       "      <th>budget_adj</th>\n",
       "      <th>revenue_adj</th>\n",
       "    </tr>\n",
       "  </thead>\n",
       "  <tbody>\n",
       "    <tr>\n",
       "      <th>count</th>\n",
       "      <td>10866.000000</td>\n",
       "      <td>10866.000000</td>\n",
       "      <td>1.086600e+04</td>\n",
       "      <td>1.086600e+04</td>\n",
       "      <td>10866.000000</td>\n",
       "      <td>10866.000000</td>\n",
       "      <td>10866.000000</td>\n",
       "      <td>10866.000000</td>\n",
       "      <td>1.086600e+04</td>\n",
       "      <td>1.086600e+04</td>\n",
       "    </tr>\n",
       "    <tr>\n",
       "      <th>mean</th>\n",
       "      <td>66064.177434</td>\n",
       "      <td>0.646441</td>\n",
       "      <td>1.462570e+07</td>\n",
       "      <td>3.982332e+07</td>\n",
       "      <td>102.070863</td>\n",
       "      <td>217.389748</td>\n",
       "      <td>5.974922</td>\n",
       "      <td>2001.322658</td>\n",
       "      <td>1.755104e+07</td>\n",
       "      <td>5.136436e+07</td>\n",
       "    </tr>\n",
       "    <tr>\n",
       "      <th>std</th>\n",
       "      <td>92130.136561</td>\n",
       "      <td>1.000185</td>\n",
       "      <td>3.091321e+07</td>\n",
       "      <td>1.170035e+08</td>\n",
       "      <td>31.381405</td>\n",
       "      <td>575.619058</td>\n",
       "      <td>0.935142</td>\n",
       "      <td>12.812941</td>\n",
       "      <td>3.430616e+07</td>\n",
       "      <td>1.446325e+08</td>\n",
       "    </tr>\n",
       "    <tr>\n",
       "      <th>min</th>\n",
       "      <td>5.000000</td>\n",
       "      <td>0.000065</td>\n",
       "      <td>0.000000e+00</td>\n",
       "      <td>0.000000e+00</td>\n",
       "      <td>0.000000</td>\n",
       "      <td>10.000000</td>\n",
       "      <td>1.500000</td>\n",
       "      <td>1960.000000</td>\n",
       "      <td>0.000000e+00</td>\n",
       "      <td>0.000000e+00</td>\n",
       "    </tr>\n",
       "    <tr>\n",
       "      <th>25%</th>\n",
       "      <td>10596.250000</td>\n",
       "      <td>0.207583</td>\n",
       "      <td>0.000000e+00</td>\n",
       "      <td>0.000000e+00</td>\n",
       "      <td>90.000000</td>\n",
       "      <td>17.000000</td>\n",
       "      <td>5.400000</td>\n",
       "      <td>1995.000000</td>\n",
       "      <td>0.000000e+00</td>\n",
       "      <td>0.000000e+00</td>\n",
       "    </tr>\n",
       "    <tr>\n",
       "      <th>50%</th>\n",
       "      <td>20669.000000</td>\n",
       "      <td>0.383856</td>\n",
       "      <td>0.000000e+00</td>\n",
       "      <td>0.000000e+00</td>\n",
       "      <td>99.000000</td>\n",
       "      <td>38.000000</td>\n",
       "      <td>6.000000</td>\n",
       "      <td>2006.000000</td>\n",
       "      <td>0.000000e+00</td>\n",
       "      <td>0.000000e+00</td>\n",
       "    </tr>\n",
       "    <tr>\n",
       "      <th>75%</th>\n",
       "      <td>75610.000000</td>\n",
       "      <td>0.713817</td>\n",
       "      <td>1.500000e+07</td>\n",
       "      <td>2.400000e+07</td>\n",
       "      <td>111.000000</td>\n",
       "      <td>145.750000</td>\n",
       "      <td>6.600000</td>\n",
       "      <td>2011.000000</td>\n",
       "      <td>2.085325e+07</td>\n",
       "      <td>3.369710e+07</td>\n",
       "    </tr>\n",
       "    <tr>\n",
       "      <th>max</th>\n",
       "      <td>417859.000000</td>\n",
       "      <td>32.985763</td>\n",
       "      <td>4.250000e+08</td>\n",
       "      <td>2.781506e+09</td>\n",
       "      <td>900.000000</td>\n",
       "      <td>9767.000000</td>\n",
       "      <td>9.200000</td>\n",
       "      <td>2015.000000</td>\n",
       "      <td>4.250000e+08</td>\n",
       "      <td>2.827124e+09</td>\n",
       "    </tr>\n",
       "  </tbody>\n",
       "</table>\n",
       "</div>"
      ],
      "text/plain": [
       "                  id    popularity        budget       revenue       runtime  \\\n",
       "count   10866.000000  10866.000000  1.086600e+04  1.086600e+04  10866.000000   \n",
       "mean    66064.177434      0.646441  1.462570e+07  3.982332e+07    102.070863   \n",
       "std     92130.136561      1.000185  3.091321e+07  1.170035e+08     31.381405   \n",
       "min         5.000000      0.000065  0.000000e+00  0.000000e+00      0.000000   \n",
       "25%     10596.250000      0.207583  0.000000e+00  0.000000e+00     90.000000   \n",
       "50%     20669.000000      0.383856  0.000000e+00  0.000000e+00     99.000000   \n",
       "75%     75610.000000      0.713817  1.500000e+07  2.400000e+07    111.000000   \n",
       "max    417859.000000     32.985763  4.250000e+08  2.781506e+09    900.000000   \n",
       "\n",
       "         vote_count  vote_average  release_year    budget_adj   revenue_adj  \n",
       "count  10866.000000  10866.000000  10866.000000  1.086600e+04  1.086600e+04  \n",
       "mean     217.389748      5.974922   2001.322658  1.755104e+07  5.136436e+07  \n",
       "std      575.619058      0.935142     12.812941  3.430616e+07  1.446325e+08  \n",
       "min       10.000000      1.500000   1960.000000  0.000000e+00  0.000000e+00  \n",
       "25%       17.000000      5.400000   1995.000000  0.000000e+00  0.000000e+00  \n",
       "50%       38.000000      6.000000   2006.000000  0.000000e+00  0.000000e+00  \n",
       "75%      145.750000      6.600000   2011.000000  2.085325e+07  3.369710e+07  \n",
       "max     9767.000000      9.200000   2015.000000  4.250000e+08  2.827124e+09  "
      ]
     },
     "execution_count": 5,
     "metadata": {},
     "output_type": "execute_result"
    }
   ],
   "source": [
    "df.describe()"
   ]
  },
  {
   "cell_type": "markdown",
   "metadata": {},
   "source": [
    "**Checking the missing values columns**: afeter using info(), we can see clearlly the missing values in each column.\n",
    "The homepage column seems to have alot of null values, also kaywords column and tagline has a number of null values.\n",
    "\n",
    "other missing columns: overview, genres, production_companies, director"
   ]
  },
  {
   "cell_type": "markdown",
   "metadata": {},
   "source": [
    "Let's see what each column repersent."
   ]
  },
  {
   "cell_type": "code",
   "execution_count": 6,
   "metadata": {
    "scrolled": true
   },
   "outputs": [
    {
     "data": {
      "text/plain": [
       "0                        http://www.jurassicworld.com/\n",
       "1                          http://www.madmaxmovie.com/\n",
       "2       http://www.thedivergentseries.movie/#insurgent\n",
       "3    http://www.starwars.com/films/star-wars-episod...\n",
       "4                             http://www.furious7.com/\n",
       "Name: homepage, dtype: object"
      ]
     },
     "execution_count": 6,
     "metadata": {},
     "output_type": "execute_result"
    }
   ],
   "source": [
    "df.homepage.head()"
   ]
  },
  {
   "cell_type": "code",
   "execution_count": 7,
   "metadata": {},
   "outputs": [
    {
     "data": {
      "text/plain": [
       "0                The park is open.\n",
       "1               What a Lovely Day.\n",
       "2       One Choice Can Destroy You\n",
       "3    Every generation has a story.\n",
       "4              Vengeance Hits Home\n",
       "Name: tagline, dtype: object"
      ]
     },
     "execution_count": 7,
     "metadata": {},
     "output_type": "execute_result"
    }
   ],
   "source": [
    "df.tagline.head()"
   ]
  },
  {
   "cell_type": "code",
   "execution_count": 8,
   "metadata": {
    "scrolled": false
   },
   "outputs": [
    {
     "data": {
      "text/plain": [
       "0    monster|dna|tyrannosaurus rex|velociraptor|island\n",
       "1     future|chase|post-apocalyptic|dystopia|australia\n",
       "2    based on novel|revolution|dystopia|sequel|dyst...\n",
       "3                android|spaceship|jedi|space opera|3d\n",
       "4                  car race|speed|revenge|suspense|car\n",
       "Name: keywords, dtype: object"
      ]
     },
     "execution_count": 8,
     "metadata": {},
     "output_type": "execute_result"
    }
   ],
   "source": [
    "df.keywords.head()"
   ]
  },
  {
   "cell_type": "code",
   "execution_count": 9,
   "metadata": {
    "scrolled": true
   },
   "outputs": [
    {
     "data": {
      "text/plain": [
       "0    Twenty-two years after the events of Jurassic ...\n",
       "1    An apocalyptic story set in the furthest reach...\n",
       "2    Beatrice Prior must confront her inner demons ...\n",
       "3    Thirty years after defeating the Galactic Empi...\n",
       "4    Deckard Shaw seeks revenge against Dominic Tor...\n",
       "Name: overview, dtype: object"
      ]
     },
     "execution_count": 9,
     "metadata": {},
     "output_type": "execute_result"
    }
   ],
   "source": [
    "df.overview.head()"
   ]
  },
  {
   "cell_type": "markdown",
   "metadata": {},
   "source": [
    "I don't belive that any of the above columns can make any real differnce in any way, for now."
   ]
  },
  {
   "cell_type": "code",
   "execution_count": 10,
   "metadata": {},
   "outputs": [
    {
     "data": {
      "text/plain": [
       "array(['Universal Studios|Amblin Entertainment|Legendary Pictures|Fuji Television Network|Dentsu',\n",
       "       'Village Roadshow Pictures|Kennedy Miller Productions',\n",
       "       'Summit Entertainment|Mandeville Films|Red Wagon Entertainment|NeoReel',\n",
       "       ...,\n",
       "       'Cherokee Productions|Joel Productions|Douglas & Lewis Productions',\n",
       "       'Benedict Pictures Corp.', 'Norm-Iris'], dtype=object)"
      ]
     },
     "execution_count": 10,
     "metadata": {},
     "output_type": "execute_result"
    }
   ],
   "source": [
    "df.production_companies.unique()"
   ]
  },
  {
   "cell_type": "code",
   "execution_count": 11,
   "metadata": {},
   "outputs": [
    {
     "data": {
      "text/html": [
       "<div>\n",
       "<style scoped>\n",
       "    .dataframe tbody tr th:only-of-type {\n",
       "        vertical-align: middle;\n",
       "    }\n",
       "\n",
       "    .dataframe tbody tr th {\n",
       "        vertical-align: top;\n",
       "    }\n",
       "\n",
       "    .dataframe thead th {\n",
       "        text-align: right;\n",
       "    }\n",
       "</style>\n",
       "<table border=\"1\" class=\"dataframe\">\n",
       "  <thead>\n",
       "    <tr style=\"text-align: right;\">\n",
       "      <th></th>\n",
       "      <th>id</th>\n",
       "      <th>imdb_id</th>\n",
       "      <th>popularity</th>\n",
       "      <th>budget</th>\n",
       "      <th>revenue</th>\n",
       "      <th>original_title</th>\n",
       "      <th>cast</th>\n",
       "      <th>homepage</th>\n",
       "      <th>director</th>\n",
       "      <th>tagline</th>\n",
       "      <th>...</th>\n",
       "      <th>overview</th>\n",
       "      <th>runtime</th>\n",
       "      <th>genres</th>\n",
       "      <th>production_companies</th>\n",
       "      <th>release_date</th>\n",
       "      <th>vote_count</th>\n",
       "      <th>vote_average</th>\n",
       "      <th>release_year</th>\n",
       "      <th>budget_adj</th>\n",
       "      <th>revenue_adj</th>\n",
       "    </tr>\n",
       "  </thead>\n",
       "  <tbody>\n",
       "    <tr>\n",
       "      <th>532</th>\n",
       "      <td>320996</td>\n",
       "      <td>tt4073952</td>\n",
       "      <td>0.126594</td>\n",
       "      <td>0</td>\n",
       "      <td>0</td>\n",
       "      <td>Iliza Shlesinger: Freezing Hot</td>\n",
       "      <td>Iliza Shlesinger</td>\n",
       "      <td>http://www.iliza.com/freezing-hot.html</td>\n",
       "      <td>NaN</td>\n",
       "      <td>NaN</td>\n",
       "      <td>...</td>\n",
       "      <td>Smart and brazen comedian Iliza Shlesinger sha...</td>\n",
       "      <td>71</td>\n",
       "      <td>Comedy</td>\n",
       "      <td>New Wave Entertainment</td>\n",
       "      <td>1/23/15</td>\n",
       "      <td>14</td>\n",
       "      <td>6.6</td>\n",
       "      <td>2015</td>\n",
       "      <td>0.0</td>\n",
       "      <td>0.0</td>\n",
       "    </tr>\n",
       "    <tr>\n",
       "      <th>548</th>\n",
       "      <td>355131</td>\n",
       "      <td>NaN</td>\n",
       "      <td>0.108072</td>\n",
       "      <td>0</td>\n",
       "      <td>0</td>\n",
       "      <td>Sense8: Creating the World</td>\n",
       "      <td>Tuppence Middleton|Bae Doona |Brian J. Smith|A...</td>\n",
       "      <td>NaN</td>\n",
       "      <td>NaN</td>\n",
       "      <td>NaN</td>\n",
       "      <td>...</td>\n",
       "      <td>NaN</td>\n",
       "      <td>25</td>\n",
       "      <td>Documentary|Science Fiction</td>\n",
       "      <td>Netflix</td>\n",
       "      <td>8/10/15</td>\n",
       "      <td>12</td>\n",
       "      <td>7.5</td>\n",
       "      <td>2015</td>\n",
       "      <td>0.0</td>\n",
       "      <td>0.0</td>\n",
       "    </tr>\n",
       "  </tbody>\n",
       "</table>\n",
       "<p>2 rows × 21 columns</p>\n",
       "</div>"
      ],
      "text/plain": [
       "         id    imdb_id  popularity  budget  revenue  \\\n",
       "532  320996  tt4073952    0.126594       0        0   \n",
       "548  355131        NaN    0.108072       0        0   \n",
       "\n",
       "                     original_title  \\\n",
       "532  Iliza Shlesinger: Freezing Hot   \n",
       "548      Sense8: Creating the World   \n",
       "\n",
       "                                                  cast  \\\n",
       "532                                   Iliza Shlesinger   \n",
       "548  Tuppence Middleton|Bae Doona |Brian J. Smith|A...   \n",
       "\n",
       "                                   homepage director tagline  ...  \\\n",
       "532  http://www.iliza.com/freezing-hot.html      NaN     NaN  ...   \n",
       "548                                     NaN      NaN     NaN  ...   \n",
       "\n",
       "                                              overview runtime  \\\n",
       "532  Smart and brazen comedian Iliza Shlesinger sha...      71   \n",
       "548                                                NaN      25   \n",
       "\n",
       "                          genres    production_companies release_date  \\\n",
       "532                       Comedy  New Wave Entertainment      1/23/15   \n",
       "548  Documentary|Science Fiction                 Netflix      8/10/15   \n",
       "\n",
       "    vote_count  vote_average  release_year  budget_adj  revenue_adj  \n",
       "532         14           6.6          2015         0.0          0.0  \n",
       "548         12           7.5          2015         0.0          0.0  \n",
       "\n",
       "[2 rows x 21 columns]"
      ]
     },
     "execution_count": 11,
     "metadata": {},
     "output_type": "execute_result"
    }
   ],
   "source": [
    "# checking the director missing values.\n",
    "df[df.director.isnull()].head(2)"
   ]
  },
  {
   "cell_type": "code",
   "execution_count": 12,
   "metadata": {},
   "outputs": [
    {
     "data": {
      "text/plain": [
       "0    [Action, Adventure, Science Fiction, Thriller]\n",
       "1    [Action, Adventure, Science Fiction, Thriller]\n",
       "2            [Adventure, Science Fiction, Thriller]\n",
       "3     [Action, Adventure, Science Fiction, Fantasy]\n",
       "4                         [Action, Crime, Thriller]\n",
       "Name: genres, dtype: object"
      ]
     },
     "execution_count": 12,
     "metadata": {},
     "output_type": "execute_result"
    }
   ],
   "source": [
    "df.genres.str.split('|').head() # to see more clearlly."
   ]
  },
  {
   "cell_type": "markdown",
   "metadata": {},
   "source": [
    "###### Zero values in Budget & Revenue \n",
    "Another problem that was not shown using the info() is Budget & Revenue 50% of the records are Zeros."
   ]
  },
  {
   "cell_type": "code",
   "execution_count": 13,
   "metadata": {},
   "outputs": [
    {
     "data": {
      "text/plain": [
       "count    1.086600e+04\n",
       "mean     1.462570e+07\n",
       "std      3.091321e+07\n",
       "min      0.000000e+00\n",
       "25%      0.000000e+00\n",
       "50%      0.000000e+00\n",
       "75%      1.500000e+07\n",
       "max      4.250000e+08\n",
       "Name: budget, dtype: float64"
      ]
     },
     "execution_count": 13,
     "metadata": {},
     "output_type": "execute_result"
    }
   ],
   "source": [
    "df.describe().budget"
   ]
  },
  {
   "cell_type": "code",
   "execution_count": 14,
   "metadata": {},
   "outputs": [
    {
     "data": {
      "text/plain": [
       "count    1.086600e+04\n",
       "mean     3.982332e+07\n",
       "std      1.170035e+08\n",
       "min      0.000000e+00\n",
       "25%      0.000000e+00\n",
       "50%      0.000000e+00\n",
       "75%      2.400000e+07\n",
       "max      2.781506e+09\n",
       "Name: revenue, dtype: float64"
      ]
     },
     "execution_count": 14,
     "metadata": {},
     "output_type": "execute_result"
    }
   ],
   "source": [
    "df.describe().revenue"
   ]
  },
  {
   "cell_type": "markdown",
   "metadata": {},
   "source": [
    "\n",
    "### General Data Cleaning "
   ]
  },
  {
   "cell_type": "markdown",
   "metadata": {},
   "source": [
    "**Fixing columns types**: All columns seems to have an appropriate data type to represent it's content.\n",
    "except for relese_date, i will keep release_year as int to do math ops easlly."
   ]
  },
  {
   "cell_type": "code",
   "execution_count": 15,
   "metadata": {},
   "outputs": [
    {
     "data": {
      "text/plain": [
       "str"
      ]
     },
     "execution_count": 15,
     "metadata": {},
     "output_type": "execute_result"
    }
   ],
   "source": [
    "type(df.release_date[0])"
   ]
  },
  {
   "cell_type": "code",
   "execution_count": 16,
   "metadata": {},
   "outputs": [
    {
     "data": {
      "text/plain": [
       "pandas._libs.tslibs.timestamps.Timestamp"
      ]
     },
     "execution_count": 16,
     "metadata": {},
     "output_type": "execute_result"
    }
   ],
   "source": [
    "df.release_date = pd.to_datetime(df.release_date);\n",
    "type(df.release_date[0])"
   ]
  },
  {
   "cell_type": "code",
   "execution_count": 17,
   "metadata": {},
   "outputs": [],
   "source": [
    "cdf = df.copy() # clean dataframe"
   ]
  },
  {
   "cell_type": "code",
   "execution_count": 18,
   "metadata": {},
   "outputs": [],
   "source": [
    "# droping unimportant columns\n",
    "cdf.drop(['imdb_id','homepage','tagline','overview','keywords'],axis=1,inplace=True)"
   ]
  },
  {
   "cell_type": "code",
   "execution_count": 19,
   "metadata": {},
   "outputs": [],
   "source": [
    "# droping null values:\n",
    "cdf.dropna(inplace=True)"
   ]
  },
  {
   "cell_type": "code",
   "execution_count": 20,
   "metadata": {},
   "outputs": [
    {
     "name": "stdout",
     "output_type": "stream",
     "text": [
      "<class 'pandas.core.frame.DataFrame'>\n",
      "Int64Index: 9773 entries, 0 to 10865\n",
      "Data columns (total 16 columns):\n",
      "id                      9773 non-null int64\n",
      "popularity              9773 non-null float64\n",
      "budget                  9773 non-null int64\n",
      "revenue                 9773 non-null int64\n",
      "original_title          9773 non-null object\n",
      "cast                    9773 non-null object\n",
      "director                9773 non-null object\n",
      "runtime                 9773 non-null int64\n",
      "genres                  9773 non-null object\n",
      "production_companies    9773 non-null object\n",
      "release_date            9773 non-null datetime64[ns]\n",
      "vote_count              9773 non-null int64\n",
      "vote_average            9773 non-null float64\n",
      "release_year            9773 non-null int64\n",
      "budget_adj              9773 non-null float64\n",
      "revenue_adj             9773 non-null float64\n",
      "dtypes: datetime64[ns](1), float64(4), int64(6), object(5)\n",
      "memory usage: 1.3+ MB\n"
     ]
    }
   ],
   "source": [
    "cdf.info()"
   ]
  },
  {
   "cell_type": "code",
   "execution_count": 21,
   "metadata": {
    "scrolled": true
   },
   "outputs": [
    {
     "data": {
      "text/plain": [
       "1"
      ]
     },
     "execution_count": 21,
     "metadata": {},
     "output_type": "execute_result"
    }
   ],
   "source": [
    "cdf.duplicated().sum() # number of duplicated values."
   ]
  },
  {
   "cell_type": "code",
   "execution_count": 22,
   "metadata": {},
   "outputs": [],
   "source": [
    "cdf.drop_duplicates(inplace = True)"
   ]
  },
  {
   "cell_type": "code",
   "execution_count": 23,
   "metadata": {},
   "outputs": [
    {
     "data": {
      "text/plain": [
       "0"
      ]
     },
     "execution_count": 23,
     "metadata": {},
     "output_type": "execute_result"
    }
   ],
   "source": [
    "cdf.duplicated().sum()"
   ]
  },
  {
   "cell_type": "markdown",
   "metadata": {},
   "source": [
    "#### let's deal with values seprated with \" | \" in cast, genres, production_companies.\n"
   ]
  },
  {
   "cell_type": "code",
   "execution_count": 24,
   "metadata": {},
   "outputs": [
    {
     "data": {
      "text/plain": [
       "0    [Chris Pratt, Bryce Dallas Howard, Irrfan Khan...\n",
       "1    [Tom Hardy, Charlize Theron, Hugh Keays-Byrne,...\n",
       "2    [Shailene Woodley, Theo James, Kate Winslet, A...\n",
       "3    [Harrison Ford, Mark Hamill, Carrie Fisher, Ad...\n",
       "4    [Vin Diesel, Paul Walker, Jason Statham, Miche...\n",
       "Name: cast, dtype: object"
      ]
     },
     "execution_count": 24,
     "metadata": {},
     "output_type": "execute_result"
    }
   ],
   "source": [
    "\n",
    "cast = cdf.cast.str.split(\"|\") # turn it to panda series.\n",
    "cast.head()\n",
    "cdf.cast = cast\n",
    "\n",
    "cdf.cast.head()"
   ]
  },
  {
   "cell_type": "code",
   "execution_count": 25,
   "metadata": {},
   "outputs": [
    {
     "data": {
      "text/plain": [
       "0    [Action, Adventure, Science Fiction, Thriller]\n",
       "1    [Action, Adventure, Science Fiction, Thriller]\n",
       "2            [Adventure, Science Fiction, Thriller]\n",
       "3     [Action, Adventure, Science Fiction, Fantasy]\n",
       "4                         [Action, Crime, Thriller]\n",
       "Name: genres, dtype: object"
      ]
     },
     "execution_count": 25,
     "metadata": {},
     "output_type": "execute_result"
    }
   ],
   "source": [
    "genres = cdf.genres.str.split(\"|\") # turn it to panda series.\n",
    "genres.head()\n",
    "cdf.genres = genres\n",
    "\n",
    "cdf.genres.head()"
   ]
  },
  {
   "cell_type": "code",
   "execution_count": 26,
   "metadata": {
    "scrolled": true
   },
   "outputs": [
    {
     "data": {
      "text/plain": [
       "0    [Universal Studios, Amblin Entertainment, Lege...\n",
       "1    [Village Roadshow Pictures, Kennedy Miller Pro...\n",
       "2    [Summit Entertainment, Mandeville Films, Red W...\n",
       "3        [Lucasfilm, Truenorth Productions, Bad Robot]\n",
       "4    [Universal Pictures, Original Film, Media Righ...\n",
       "Name: production_companies, dtype: object"
      ]
     },
     "execution_count": 26,
     "metadata": {},
     "output_type": "execute_result"
    }
   ],
   "source": [
    "production_companies = cdf.production_companies.str.split(\"|\") # turn it to panda series.\n",
    "production_companies.head()\n",
    "cdf.production_companies = production_companies\n",
    "\n",
    "cdf.production_companies.head()"
   ]
  },
  {
   "cell_type": "code",
   "execution_count": 27,
   "metadata": {},
   "outputs": [
    {
     "data": {
      "image/png": "[encoded data removed]",
      "text/plain": [
       "<Figure size 720x720 with 12 Axes>"
      ]
     },
     "metadata": {
      "needs_background": "light"
     },
     "output_type": "display_data"
    }
   ],
   "source": [
    "cdf.hist(figsize=(10,10)); # qiuck view of the clean-df so far."
   ]
  },
  {
   "cell_type": "code",
   "execution_count": 28,
   "metadata": {},
   "outputs": [
    {
     "data": {
      "text/plain": [
       "id                      9208\n",
       "popularity              9208\n",
       "budget                  9208\n",
       "revenue                 9208\n",
       "original_title          9208\n",
       "cast                    9208\n",
       "director                9208\n",
       "runtime                 9208\n",
       "genres                  9208\n",
       "production_companies    9208\n",
       "release_date            9208\n",
       "vote_count              9208\n",
       "vote_average            9208\n",
       "release_year            9208\n",
       "budget_adj              9208\n",
       "revenue_adj             9208\n",
       "dtype: int64"
      ]
     },
     "execution_count": 28,
     "metadata": {},
     "output_type": "execute_result"
    }
   ],
   "source": [
    "cdf.query('vote_count < 1000').count() # more than 90% of vote_count is below 1000. "
   ]
  },
  {
   "cell_type": "code",
   "execution_count": 29,
   "metadata": {},
   "outputs": [
    {
     "data": {
      "text/plain": [
       "count    9772.000000\n",
       "mean        0.694721\n",
       "std         1.036931\n",
       "min         0.000188\n",
       "25%         0.232710\n",
       "50%         0.419762\n",
       "75%         0.776408\n",
       "max        32.985763\n",
       "Name: popularity, dtype: float64"
      ]
     },
     "execution_count": 29,
     "metadata": {},
     "output_type": "execute_result"
    }
   ],
   "source": [
    "# more info on theis field: https://developers.themoviedb.org/3/getting-started/popularity \n",
    "# found this URL in a kaggle Discussion\n",
    "\n",
    "cdf.popularity.describe()"
   ]
  },
  {
   "cell_type": "markdown",
   "metadata": {},
   "source": [
    "<a id='eda'></a>\n",
    "## Exploratory Data Analysis\n"
   ]
  },
  {
   "cell_type": "code",
   "execution_count": 30,
   "metadata": {},
   "outputs": [],
   "source": [
    "# copy the clean data.\n",
    "df1 = cdf.copy()"
   ]
  },
  {
   "cell_type": "code",
   "execution_count": 31,
   "metadata": {},
   "outputs": [],
   "source": [
    "# function will take an argument of a list of lists and return a flattens version of it as pandas.Series. \n",
    "def flat(t):\n",
    "    a = []\n",
    "    for i in range(len(t)):\n",
    "        for j in range(len(t.iloc[i])):\n",
    "            a.append(t.iloc[i][j])\n",
    "    a = pd.Series(a)\n",
    "    return a"
   ]
  },
  {
   "cell_type": "markdown",
   "metadata": {},
   "source": [
    "### Who are the actors/actress with high movie ratings?"
   ]
  },
  {
   "cell_type": "code",
   "execution_count": 32,
   "metadata": {},
   "outputs": [],
   "source": [
    "high_df = df.query('vote_average >= 7') # a new df with high movie rating.\n",
    "t = high_df['cast']\n"
   ]
  },
  {
   "cell_type": "code",
   "execution_count": 33,
   "metadata": {},
   "outputs": [
    {
     "data": {
      "text/plain": [
       "38"
      ]
     },
     "execution_count": 33,
     "metadata": {},
     "output_type": "execute_result"
    }
   ],
   "source": [
    "t = t.str.split('|') # split\n",
    "t.isnull().sum()"
   ]
  },
  {
   "cell_type": "code",
   "execution_count": 34,
   "metadata": {},
   "outputs": [],
   "source": [
    "t = t.dropna()"
   ]
  },
  {
   "cell_type": "code",
   "execution_count": 35,
   "metadata": {},
   "outputs": [],
   "source": [
    "top_actors = flat(t).value_counts()\n"
   ]
  },
  {
   "cell_type": "code",
   "execution_count": 36,
   "metadata": {},
   "outputs": [
    {
     "data": {
      "image/png": "[encoded data removed]",
      "text/plain": [
       "<Figure size 936x360 with 1 Axes>"
      ]
     },
     "metadata": {
      "needs_background": "light"
     },
     "output_type": "display_data"
    }
   ],
   "source": [
    "# visual the top actors/actress using matplotlib.\n",
    "x = top_actors.index[0:20] # actors/actress names\n",
    "y = top_actors.values[0:20] # the freq.\n",
    "\n",
    "plt.figure(figsize=(13,5))\n",
    "plt.bar(x,y,width=0.5,color='#8a8484')\n",
    "plt.xticks(rotation='vertical',fontsize=14)\n",
    "plt.yticks(np.arange(0,y.max()+1,2),fontsize=13)\n",
    "plt.ylabel('Number Of Movies',fontsize=13)\n",
    "plt.xlabel('Actors',fontsize=13)\n",
    "plt.title('Top 20 Actors/Actress who were featured in movies with a rating of 7 and higher',fontsize=15);"
   ]
  },
  {
   "cell_type": "markdown",
   "metadata": {},
   "source": [
    "### What genres generate most  revenues?\n",
    "\n",
    "> **Refrences** used to plot the pie chart.\n",
    ">\n",
    "> https://medium.com/@kvnamipara/a-better-visualisation-of-pie-charts-by-matplotlib-935b7667d77f\n",
    "> https://github.com/codebasics/py/blob/master/matpltlib/6_pie_chart/6_pie_chart.ipynb"
   ]
  },
  {
   "cell_type": "code",
   "execution_count": 37,
   "metadata": {},
   "outputs": [
    {
     "data": {
      "text/plain": [
       "count    9.772000e+03\n",
       "mean     4.423121e+07\n",
       "std      1.225889e+08\n",
       "min      0.000000e+00\n",
       "25%      0.000000e+00\n",
       "50%      0.000000e+00\n",
       "75%      3.104729e+07\n",
       "max      2.781506e+09\n",
       "Name: revenue, dtype: float64"
      ]
     },
     "execution_count": 37,
     "metadata": {},
     "output_type": "execute_result"
    }
   ],
   "source": [
    "df1.revenue.describe() # get statistics description about the revenue."
   ]
  },
  {
   "cell_type": "code",
   "execution_count": 38,
   "metadata": {},
   "outputs": [
    {
     "data": {
      "text/plain": [
       "33316765.5"
      ]
     },
     "execution_count": 38,
     "metadata": {},
     "output_type": "execute_result"
    }
   ],
   "source": [
    "df1.query('revenue > 0').revenue.median() # get the median about the revenue."
   ]
  },
  {
   "cell_type": "code",
   "execution_count": 39,
   "metadata": {},
   "outputs": [],
   "source": [
    "high_rev = df1.query('revenue > 33316765.5') # filter by high revenue."
   ]
  },
  {
   "cell_type": "code",
   "execution_count": 40,
   "metadata": {},
   "outputs": [
    {
     "data": {
      "text/plain": [
       "(2375, 16)"
      ]
     },
     "execution_count": 40,
     "metadata": {},
     "output_type": "execute_result"
    }
   ],
   "source": [
    "high_rev.shape # see the shape"
   ]
  },
  {
   "cell_type": "code",
   "execution_count": 41,
   "metadata": {},
   "outputs": [],
   "source": [
    "rev_gen = flat(high_rev.genres).value_counts() # return a list of the genres and corresponding count\n"
   ]
  },
  {
   "cell_type": "code",
   "execution_count": 42,
   "metadata": {},
   "outputs": [],
   "source": [
    "total = rev_gen.sum() # sum of total count of all genres, to get the proporation.\n",
    "prop = []\n",
    "for i in range(10): # 10 to get the top 10 most genres related with high reveune.\n",
    "    x = rev_gen[i] / total\n",
    "    prop.append(x * 100) # get the percentge as 10% not 0.1\n",
    "others = 100 - sum(prop) # for the outher categories who were not in the top 10.\n",
    "prop.append(others)"
   ]
  },
  {
   "cell_type": "code",
   "execution_count": 43,
   "metadata": {},
   "outputs": [],
   "source": [
    "labels = list(rev_gen.index[:10]) # names of the top 10 genres.\n",
    "labels.append('Others')"
   ]
  },
  {
   "cell_type": "code",
   "execution_count": 44,
   "metadata": {
    "scrolled": true
   },
   "outputs": [
    {
     "data": {
      "image/png": "[encoded data removed]",
      "text/plain": [
       "<Figure size 432x288 with 1 Axes>"
      ]
     },
     "metadata": {},
     "output_type": "display_data"
    }
   ],
   "source": [
    "explode = (0.2,0.2,0,0,0,0,0,0,0,0,0) # the first two slice will be cut of the pie chart.\n",
    "colors = ['#957cde','#3bdb66','#f26666','#45a387','#e1e864','#e968f7','#c4c3b7','#34e3d1','lightblue','#f2aa5c','#8a8484']\n",
    "# autopct='%0.0f%%': to whole numbers.\n",
    "# startangle=90: change the direction of the pie.\n",
    "# pctdistance=0.80: move the percenatge up the slice.\n",
    "plt.pie(prop, labels=labels, colors=colors, explode=explode, autopct='%0.0f%%', startangle=90,pctdistance=0.80,radius=2)\n",
    "plt.axis('equal') # to have the shape of the pie circular.\n",
    "plt.title('Percantge of highest movie revunue in term of genres')\n",
    "plt.show();"
   ]
  },
  {
   "cell_type": "markdown",
   "metadata": {},
   "source": [
    "### What production companies with high movie ratings?\n"
   ]
  },
  {
   "cell_type": "code",
   "execution_count": 45,
   "metadata": {},
   "outputs": [],
   "source": [
    "high_df = df.query('vote_average >= 7.5') # a new df with high movie rating.\n",
    "t = high_df['production_companies']"
   ]
  },
  {
   "cell_type": "code",
   "execution_count": 46,
   "metadata": {},
   "outputs": [
    {
     "data": {
      "text/plain": [
       "87"
      ]
     },
     "execution_count": 46,
     "metadata": {},
     "output_type": "execute_result"
    }
   ],
   "source": [
    "t = t.str.split('|')\n",
    "t.isnull().sum() # some values are missing inside the inner lists."
   ]
  },
  {
   "cell_type": "code",
   "execution_count": 47,
   "metadata": {},
   "outputs": [],
   "source": [
    "t = t.dropna() # droping the NA values inside the production_companies."
   ]
  },
  {
   "cell_type": "code",
   "execution_count": 48,
   "metadata": {},
   "outputs": [],
   "source": [
    "top_comp = flat(t).value_counts()"
   ]
  },
  {
   "cell_type": "code",
   "execution_count": 49,
   "metadata": {},
   "outputs": [
    {
     "data": {
      "image/png": "[encoded data removed]",
      "text/plain": [
       "<Figure size 1008x360 with 1 Axes>"
      ]
     },
     "metadata": {
      "needs_background": "light"
     },
     "output_type": "display_data"
    }
   ],
   "source": [
    "x = top_comp.index[0:10]\n",
    "y = top_comp.values[0:10]\n",
    "\n",
    "plt.figure(figsize=(14,5))\n",
    "plt.bar(x,y,width=0.3,color='#3bdb66')\n",
    "plt.xticks(rotation='vertical',fontsize=13)\n",
    "plt.ylabel('Number Of Movies',fontsize=14)\n",
    "plt.xlabel('Production Companies',fontsize=14)\n",
    "plt.title('Top 10 Production Companies with hgih movie rating' ,fontsize=15);"
   ]
  },
  {
   "cell_type": "markdown",
   "metadata": {},
   "source": [
    "### Which Genres are most popular in each decade? \n"
   ]
  },
  {
   "cell_type": "markdown",
   "metadata": {},
   "source": [
    "The below cells almost identical, at ech cell a new dataframe will be created to represent each decade.\n",
    "each list will be flattend using the function flat() created above and will get value_counts,\n",
    "then will slice the four most popular genres."
   ]
  },
  {
   "cell_type": "code",
   "execution_count": 50,
   "metadata": {},
   "outputs": [
    {
     "data": {
      "text/plain": [
       "Drama      163\n",
       "Comedy     108\n",
       "Action      75\n",
       "Romance     65\n",
       "dtype: int64"
      ]
     },
     "execution_count": 50,
     "metadata": {},
     "output_type": "execute_result"
    }
   ],
   "source": [
    "six = df1.query('release_year < 1970')\n",
    "six_gen = flat(six.genres).value_counts()\n",
    "all_six = six_gen.values.sum()\n",
    "six_gen = six_gen[0:4]\n",
    "six_gen"
   ]
  },
  {
   "cell_type": "code",
   "execution_count": 51,
   "metadata": {},
   "outputs": [
    {
     "data": {
      "text/plain": [
       "Drama       237\n",
       "Thriller    147\n",
       "Action      119\n",
       "Comedy      116\n",
       "dtype: int64"
      ]
     },
     "execution_count": 51,
     "metadata": {},
     "output_type": "execute_result"
    }
   ],
   "source": [
    "seven = df1[(df1['release_year'] >= 1970) & (df1['release_year'] < 1980)]\n",
    "seven_gen = flat(seven.genres).value_counts()\n",
    "all_seven = seven_gen.values.sum()\n",
    "seven_gen = seven_gen[0:4]\n",
    "seven_gen"
   ]
  },
  {
   "cell_type": "code",
   "execution_count": 52,
   "metadata": {},
   "outputs": [
    {
     "data": {
      "text/plain": [
       "Drama       350\n",
       "Comedy      346\n",
       "Action      223\n",
       "Thriller    218\n",
       "dtype: int64"
      ]
     },
     "execution_count": 52,
     "metadata": {},
     "output_type": "execute_result"
    }
   ],
   "source": [
    "eight = df1[(df1['release_year'] >= 1980) & (df1['release_year'] < 1989)]\n",
    "eight_gen = flat(eight.genres).value_counts()\n",
    "all_eight = eight_gen.values.sum()\n",
    "eight_gen = eight_gen[0:4]\n",
    "eight_gen"
   ]
  },
  {
   "cell_type": "code",
   "execution_count": 53,
   "metadata": {},
   "outputs": [
    {
     "data": {
      "text/plain": [
       "Drama       827\n",
       "Comedy      699\n",
       "Thriller    482\n",
       "Action      436\n",
       "dtype: int64"
      ]
     },
     "execution_count": 53,
     "metadata": {},
     "output_type": "execute_result"
    }
   ],
   "source": [
    "nine = df1[(df1['release_year'] >= 1990) & (df1['release_year'] < 2000)]\n",
    "nine_gen = flat(nine.genres).value_counts()\n",
    "all_nine = nine_gen.values.sum()\n",
    "nine_gen = nine_gen[0:4]\n",
    "nine_gen"
   ]
  },
  {
   "cell_type": "code",
   "execution_count": 54,
   "metadata": {
    "scrolled": false
   },
   "outputs": [
    {
     "data": {
      "text/plain": [
       "Drama       2734\n",
       "Comedy      2105\n",
       "Thriller    1801\n",
       "Action      1344\n",
       "dtype: int64"
      ]
     },
     "execution_count": 54,
     "metadata": {},
     "output_type": "execute_result"
    }
   ],
   "source": [
    "now = df1[df1['release_year'] >= 2000]\n",
    "now_gen = flat(now.genres).value_counts()\n",
    "all_now = now_gen.values.sum()\n",
    "now_gen = now_gen[0:4]\n",
    "now_gen"
   ]
  },
  {
   "cell_type": "code",
   "execution_count": 55,
   "metadata": {},
   "outputs": [
    {
     "data": {
      "image/png": "[encoded data removed]",
      "text/plain": [
       "<Figure size 1440x576 with 1 Axes>"
      ]
     },
     "metadata": {
      "needs_background": "light"
     },
     "output_type": "display_data"
    }
   ],
   "source": [
    "# keys are the idices of each list which are the genres.\n",
    "# xpos to have a numeric x-axis to represent the categorical variables.\n",
    "# using this way we can simplly move each bar using math ops, as shown below when I did xpos+1, etc.\n",
    "# idea behind xpos is taking from https://github.com/codebasics/py/blob/master/matpltlib/4_bar_chart/4_bar_chart.ipynb\n",
    "\n",
    "keys = now_gen.index\n",
    "values = now_gen.values \n",
    "xpos = np.arange(len(values))\n",
    "\n",
    "keys2 = nine_gen.index\n",
    "values2 = nine_gen.values\n",
    "xpos2 = np.arange(len(values2))\n",
    "\n",
    "\n",
    "keys3 = eight_gen.index\n",
    "values3 = eight_gen.values\n",
    "xpos3 = np.arange(len(values3))\n",
    "\n",
    "keys4 = seven_gen.index\n",
    "values4 = seven_gen.values\n",
    "xpos4 = np.arange(len(values4))\n",
    "\n",
    "keys5 = six_gen.index\n",
    "values5 = six_gen.values\n",
    "xpos5 = np.arange(len(values5))\n",
    "\n",
    "plt.figure(figsize=(20,8))\n",
    "\n",
    "plt.bar(xpos+0.2,values*100,width=0.1, label=\"2000s & now\",color='#4ea8ed')\n",
    "plt.bar(xpos2+0.1,values2*100,width=0.1, label=\"90s\",color='#f26666')\n",
    "plt.bar(xpos3,values3*100,width=0.1, label=\"80s\",color='gray')\n",
    "plt.bar(xpos4-0.1,values4*100,width=0.1, label=\"70s\",color='lightgreen')\n",
    "plt.bar(xpos5-0.2,values5*100,width=0.1, label=\"60s\",color='#e968f7')\n",
    "\n",
    "plt.xticks(xpos,keys,fontsize=14) # to represent the numbers with the corresponding genre.\n",
    "plt.yticks(fontsize=14)\n",
    "\n",
    "plt.title('Popualr genres in diffrent decades',fontsize=20)\n",
    "plt.ylabel('Number of Movies',fontsize=15)\n",
    "plt.xlabel('Movie Genres',fontsize=15)\n",
    "\n",
    "plt.legend(fontsize=15)\n",
    "plt.show();"
   ]
  },
  {
   "cell_type": "markdown",
   "metadata": {},
   "source": [
    "#### The above figure is not fair because it's clear that the number of movies are increasing over time.\n",
    "Let's see a visual representation of movie production through the years."
   ]
  },
  {
   "cell_type": "code",
   "execution_count": 56,
   "metadata": {
    "scrolled": true
   },
   "outputs": [
    {
     "data": {
      "text/plain": [
       "(Int64Index([1960, 1961, 1962, 1963, 1964, 1965, 1966, 1967, 1968, 1969, 1970,\n",
       "             1971, 1972, 1973, 1974, 1975, 1976, 1977, 1978, 1979, 1980, 1981,\n",
       "             1982, 1983, 1984, 1985, 1986, 1987, 1988, 1989, 1990, 1991, 1992,\n",
       "             1993, 1994, 1995, 1996, 1997, 1998, 1999, 2000, 2001, 2002, 2003,\n",
       "             2004, 2005, 2006, 2007, 2008, 2009, 2010, 2011, 2012, 2013, 2014,\n",
       "             2015],\n",
       "            dtype='int64', name='release_year'),\n",
       " array([ 32,  30,  30,  34,  41,  34,  44,  36,  37,  29,  40,  55,  37,\n",
       "         55,  44,  42,  46,  55,  61,  56,  73,  78,  80,  77,  99, 106,\n",
       "        109, 113, 132, 128, 126, 125, 126, 172, 174, 170, 196, 180, 191,\n",
       "        212, 196, 212, 241, 254, 253, 323, 350, 389, 441, 474, 420, 456,\n",
       "        498, 567, 635, 558], dtype=int64))"
      ]
     },
     "execution_count": 56,
     "metadata": {},
     "output_type": "execute_result"
    }
   ],
   "source": [
    "movies_time = df1.groupby('release_year').id.count()\n",
    "movies_time.index,movies_time.values"
   ]
  },
  {
   "cell_type": "code",
   "execution_count": 57,
   "metadata": {
    "scrolled": true
   },
   "outputs": [
    {
     "data": {
      "image/png": "[encoded data removed]",
      "text/plain": [
       "<Figure size 432x288 with 1 Axes>"
      ]
     },
     "metadata": {
      "needs_background": "light"
     },
     "output_type": "display_data"
    }
   ],
   "source": [
    "plt.title('Movie Production Through The Years')\n",
    "plt.xlabel('Years')\n",
    "plt.ylabel('Number Of Movies')\n",
    "plt.plot(movies_time.index,movies_time.values);"
   ]
  },
  {
   "cell_type": "markdown",
   "metadata": {},
   "source": [
    "The soluation of this problem is taking the propartiaon of each genre."
   ]
  },
  {
   "cell_type": "code",
   "execution_count": 58,
   "metadata": {},
   "outputs": [
    {
     "data": {
      "image/png": "[encoded data removed]",
      "text/plain": [
       "<Figure size 1440x576 with 1 Axes>"
      ]
     },
     "metadata": {
      "needs_background": "light"
     },
     "output_type": "display_data"
    }
   ],
   "source": [
    "# values,1,2,3,4,5 are calucualted by deviding on total of all genres counts. To get the proportion.\n",
    "# keys are the idices of each list which are the genres.\n",
    "# xpos to have a numeric x-axis to represent the categorical variables.\n",
    "# using this way we can simplly move each bar using math ops, as shown below when I did xpos+1, etc.\n",
    "# idea behind xpos is taking from https://github.com/codebasics/py/blob/master/matpltlib/4_bar_chart/4_bar_chart.ipynb\n",
    "\n",
    "keys = now_gen.index\n",
    "values = now_gen.values / all_now \n",
    "xpos = np.arange(len(values))\n",
    "\n",
    "keys2 = nine_gen.index\n",
    "values2 = nine_gen.values / all_nine\n",
    "xpos2 = np.arange(len(values2))\n",
    "\n",
    "\n",
    "keys3 = eight_gen.index\n",
    "values3 = eight_gen.values / all_eight\n",
    "xpos3 = np.arange(len(values3))\n",
    "\n",
    "keys4 = seven_gen.index\n",
    "values4 = seven_gen.values / all_seven\n",
    "xpos4 = np.arange(len(values4))\n",
    "\n",
    "keys5 = six_gen.index\n",
    "values5 = six_gen.values / all_six\n",
    "xpos5 = np.arange(len(values5))\n",
    "\n",
    "plt.figure(figsize=(20,8))\n",
    "\n",
    "# values are multiplied by 100 to get percentage.\n",
    "plt.bar(xpos+0.2,values*100,width=0.1, label=\"2000s & now\",color='#4ea8ed')\n",
    "plt.bar(xpos2+0.1,values2*100,width=0.1, label=\"90s\",color='#f26666')\n",
    "plt.bar(xpos3,values3*100,width=0.1, label=\"80s\",color='gray')\n",
    "plt.bar(xpos4-0.1,values4*100,width=0.1, label=\"70s\",color='lightgreen')\n",
    "plt.bar(xpos5-0.2,values5*100,width=0.1, label=\"60s\",color='#e968f7')\n",
    "\n",
    "plt.xticks(xpos,keys,fontsize=14) # to represent the numbers(xpos) with the corresponding genre(keys).\n",
    "plt.yticks(fontsize=14)\n",
    "\n",
    "plt.title('Proportion of popualr genres in diffrent decades',fontsize=20)\n",
    "plt.ylabel('Percantge of popularity',fontsize=15)\n",
    "plt.xlabel('Movie Genres',fontsize=15)\n",
    "\n",
    "plt.legend(fontsize=15)\n",
    "plt.show();"
   ]
  },
  {
   "cell_type": "markdown",
   "metadata": {},
   "source": [
    "To be technical the above figure showed the 4 most popular genres in the 70s,80s,90s, and 2000s-now, not the 60s\n",
    "as 'six_gen' will show you 'Romance' insted of 'Thriller', but 'Thriller' is not too far from 'Romance' only two movies diffrent between them.\n",
    "for the seak of the argument I will contunue as if thriller is equle to romance.\n",
    "Below is a demonstration of my point."
   ]
  },
  {
   "cell_type": "code",
   "execution_count": 59,
   "metadata": {},
   "outputs": [
    {
     "data": {
      "text/plain": [
       "Drama       163\n",
       "Comedy      108\n",
       "Action       75\n",
       "Romance      65\n",
       "Thriller     63\n",
       "dtype: int64"
      ]
     },
     "execution_count": 59,
     "metadata": {},
     "output_type": "execute_result"
    }
   ],
   "source": [
    "all_60s = flat(six.genres).value_counts()\n",
    "all_60s[0:5]"
   ]
  },
  {
   "cell_type": "markdown",
   "metadata": {},
   "source": [
    "<a id='conclusions'></a>\n",
    "## Conclusions\n",
    "> In summary we now know what actors/actress are associted with high move rating such as Rober Deniro, Tom Hanks, Samuel jakson, etc.\n",
    "Simlirally production companies with high movie ratings such as Warner Bros, Univeral Pictures, Pixar Animation Studios, etc.\n",
    "> A great finding was which genres gained the most revenue which are Drama, Comedy, Action, Thriller. also we saw a comparson between the four most popular genres in each decade.\n",
    ">\n",
    "> Limitations: the data set was not clean, alot of column had zero values and null that caused some problems.\n",
    "> I used genres columns alot and it had '|' as seperated same with production_companies and cast members had to deal with them by using string maniplation.\n",
    "> There is null values inside the genres/production_companies/cast_members that were not clear by using for example df.genres.isnull.sum() or df.info()\n",
    "> after flattend the list it was more clear, and able to handel them.\n"
   ]
  }
 ],
 "metadata": {
  "kernelspec": {
   "display_name": "Python 3",
   "language": "python",
   "name": "python3"
  },
  "language_info": {
   "codemirror_mode": {
    "name": "ipython",
    "version": 3
   },
   "file_extension": ".py",
   "mimetype": "text/x-python",
   "name": "python",
   "nbconvert_exporter": "python",
   "pygments_lexer": "ipython3",
   "version": "3.7.3"
  }
 },
 "nbformat": 4,
 "nbformat_minor": 2
}
